{
  "nbformat": 4,
  "nbformat_minor": 0,
  "metadata": {
    "colab": {
      "name": "Tweets Collection for FRP.ipynb",
      "provenance": [],
      "collapsed_sections": [],
      "include_colab_link": true
    },
    "kernelspec": {
      "name": "python3",
      "display_name": "Python 3"
    }
  },
  "cells": [
    {
      "cell_type": "markdown",
      "metadata": {
        "id": "view-in-github",
        "colab_type": "text"
      },
      "source": [
        "<a href=\"https://colab.research.google.com/github/Sofia-1234567/Forensic-Research-Project-2021/blob/main/Tweets_Collection_for_FRP.ipynb\" target=\"_parent\"><img src=\"https://colab.research.google.com/assets/colab-badge.svg\" alt=\"Open In Colab\"/></a>"
      ]
    },
    {
      "cell_type": "code",
      "metadata": {
        "id": "6HqXRWetX5w-",
        "colab": {
          "base_uri": "https://localhost:8080/"
        },
        "outputId": "d49bbca0-a714-4ee8-e2b2-949d1822e9b6"
      },
      "source": [
        "from google.colab import drive\n",
        "drive.mount('/content/drive')"
      ],
      "execution_count": 133,
      "outputs": [
        {
          "output_type": "stream",
          "text": [
            "Drive already mounted at /content/drive; to attempt to forcibly remount, call drive.mount(\"/content/drive\", force_remount=True).\n"
          ],
          "name": "stdout"
        }
      ]
    },
    {
      "cell_type": "code",
      "metadata": {
        "id": "Ql-M_aPkX8f-",
        "colab": {
          "base_uri": "https://localhost:8080/"
        },
        "outputId": "7fc13936-5872-42f2-95e8-290afe54dc04"
      },
      "source": [
        "#Twitter properties file contains the Twitter accesstoken, accesstokensecret,apikey and apisecretkey. \n",
        "!ls '/content/drive/My Drive/Colab Notebooks/twitterproperties.txt'"
      ],
      "execution_count": 134,
      "outputs": [
        {
          "output_type": "stream",
          "text": [
            "'/content/drive/My Drive/Colab Notebooks/twitterproperties.txt'\n"
          ],
          "name": "stdout"
        }
      ]
    },
    {
      "cell_type": "code",
      "metadata": {
        "id": "01Txywxmc0ln"
      },
      "source": [
        "#!pip install tweepy"
      ],
      "execution_count": 135,
      "outputs": []
    },
    {
      "cell_type": "code",
      "metadata": {
        "id": "JLUtLiQvjYc5"
      },
      "source": [
        "#Tweepy is a Python library that allows us to access Twitter API. \n",
        "import tweepy\n",
        "\n",
        "#Using pandas library, a library for data manipulation and analysis to build a dataframe for the collected tweets\n",
        "import pandas as pd"
      ],
      "execution_count": 136,
      "outputs": []
    },
    {
      "cell_type": "code",
      "metadata": {
        "id": "M_mLanH4Ya78",
        "colab": {
          "base_uri": "https://localhost:8080/"
        },
        "outputId": "b6d49df2-22aa-4e6d-f172-b2d356970adf"
      },
      "source": [
        "#Reads the properties file from the Google Drive\n",
        "\n",
        "!pip install ConfigParser"
      ],
      "execution_count": 137,
      "outputs": [
        {
          "output_type": "stream",
          "text": [
            "Requirement already satisfied: ConfigParser in /usr/local/lib/python3.7/dist-packages (5.0.2)\n"
          ],
          "name": "stdout"
        }
      ]
    },
    {
      "cell_type": "code",
      "metadata": {
        "id": "hYkheYmGYXjz",
        "colab": {
          "base_uri": "https://localhost:8080/"
        },
        "outputId": "cd556393-6e9a-4fbe-8eeb-b93ee07a41de"
      },
      "source": [
        "#In the properties file, the tokens and secret keys are under a section called 'Twitter' which configparser reads. \n",
        "import pandas as pd\n",
        "import configparser\n",
        "config = configparser.RawConfigParser()\n",
        "config.read('/content/drive/My Drive/Colab Notebooks/twitterproperties.txt')\n",
        "\n",
        "print(config.sections());"
      ],
      "execution_count": 138,
      "outputs": [
        {
          "output_type": "stream",
          "text": [
            "['twitter']\n"
          ],
          "name": "stdout"
        }
      ]
    },
    {
      "cell_type": "code",
      "metadata": {
        "id": "nylIwVYPb6LY",
        "colab": {
          "base_uri": "https://localhost:8080/"
        },
        "outputId": "4fd069f8-f20f-4217-e56a-fd7e1ebc86e0"
      },
      "source": [
        "import tweepy as tw\n",
        "print(tw.__version__)"
      ],
      "execution_count": 139,
      "outputs": [
        {
          "output_type": "stream",
          "text": [
            "3.10.0\n"
          ],
          "name": "stdout"
        }
      ]
    },
    {
      "cell_type": "code",
      "metadata": {
        "id": "WlqqBciFc5wQ"
      },
      "source": [
        "#Assigns the contents of the token and secret keys from the Twitter section of the properties file to the variables. \n",
        "accesstoken=config.get('twitter', 'accesstoken')\n",
        "accesstokensecret=config.get('twitter', 'accesstokensecret')\n",
        "apikey=config.get('twitter', 'apikey')\n",
        "apisecretkey=config.get('twitter', 'apisecretkey')"
      ],
      "execution_count": 140,
      "outputs": []
    },
    {
      "cell_type": "code",
      "metadata": {
        "id": "3NOYTahZfR5y"
      },
      "source": [
        "#Tweepy AuthHandler authorises the keys and tokens to be accessed \n",
        "auth = tw.OAuthHandler(apikey, apisecretkey)\n",
        "auth.set_access_token(accesstoken, accesstokensecret)\n",
        "\n",
        "#calling on auth and applying a wait limit so the server is not constantly pulling tweets (prevents crashing)\n",
        "#when the treshold of collected tweets is met, it will refresh in another 15 minutes to pull the next set of tweets\n",
        "api = tw.API(auth, wait_on_rate_limit=True)"
      ],
      "execution_count": 141,
      "outputs": []
    },
    {
      "cell_type": "code",
      "metadata": {
        "id": "9gOksFCSfd8b"
      },
      "source": [
        "#searches for words, and multiple words in one tweet using the OR function\n",
        "#apply search filters\n",
        "search_words = 'megan markle OR hate OR hate OR useless' '-filter:retweets AND filter:twimg'\n",
        "\n",
        "#specify date we want the tweets from\n",
        "date_since = \"2021-01-01\"\n",
        "\n",
        "#tells the tweepy cursor that we want to perform an API search of search words, with language of the tweets being english, and to pull 300 tweets at a time. \n",
        "tweets = tw.Cursor(api.search,\n",
        "                   q=search_words,\n",
        "                   lang=\"en\",\n",
        "                   since=date_since, tweet_mode='extended', include_entities=True).items(300) "
      ],
      "execution_count": 142,
      "outputs": []
    },
    {
      "cell_type": "code",
      "metadata": {
        "id": "3Q1tsbA7iTG8"
      },
      "source": [
        "#the items that will be extracted per tweet are: unique tweet identifier (as an integer), the full text of the tweet, the date tweet was created, and the URL to the image in attached to the tweet \n",
        "tweet_details = [[tweet.id, tweet.full_text, tweet.created_at, tweet.extended_entities['media'][0]['media_url_https']] for tweet in tweets]\n"
      ],
      "execution_count": 143,
      "outputs": []
    },
    {
      "cell_type": "code",
      "metadata": {
        "id": "Z5Mjz9oPgnV7"
      },
      "source": [
        "#creating a dataframe of tweet_details\n",
        "#column headings are: \n",
        "tweet_df = pd.DataFrame(data=tweet_details, columns=['tweet_id','tweet_txt', 'created_at', 'tweet_img_URL'])\n",
        "\n",
        "#sets the maximum width in characters of a column. When the column overflows, a \"...\" placeholder is embedded in the output. \n",
        "pd.set_option('max_colwidth', 400)"
      ],
      "execution_count": 148,
      "outputs": []
    },
    {
      "cell_type": "code",
      "metadata": {
        "colab": {
          "base_uri": "https://localhost:8080/",
          "height": 595
        },
        "id": "J2C7gvviQ9Oj",
        "outputId": "74e25e9d-a41f-41aa-e2fd-47dbfe1a37a7"
      },
      "source": [
        "#filters the dataframe to only include rows containing the string \"pbs.twimg.com/media\"\n",
        "tweet_df = tweet_df[tweet_df['tweet_img_URL'].str.contains(\"pbs.twimg.com/media\")]\n",
        "\n",
        "tweet_df.head(10)"
      ],
      "execution_count": 147,
      "outputs": [
        {
          "output_type": "execute_result",
          "data": {
            "text/html": [
              "<div>\n",
              "<style scoped>\n",
              "    .dataframe tbody tr th:only-of-type {\n",
              "        vertical-align: middle;\n",
              "    }\n",
              "\n",
              "    .dataframe tbody tr th {\n",
              "        vertical-align: top;\n",
              "    }\n",
              "\n",
              "    .dataframe thead th {\n",
              "        text-align: right;\n",
              "    }\n",
              "</style>\n",
              "<table border=\"1\" class=\"dataframe\">\n",
              "  <thead>\n",
              "    <tr style=\"text-align: right;\">\n",
              "      <th></th>\n",
              "      <th>tweet_id</th>\n",
              "      <th>tweet_txt</th>\n",
              "      <th>created_at</th>\n",
              "      <th>tweet_img_URL</th>\n",
              "    </tr>\n",
              "  </thead>\n",
              "  <tbody>\n",
              "    <tr>\n",
              "      <th>0</th>\n",
              "      <td>1376469740949008391</td>\n",
              "      <td>I am tired of it, so I am posting this, Megan Markle claiming she never did any research about the Royal Family in Uk, yet in past she mentioned in an interview, that as a teenager she went to UK, took a picture of herself afront Buckingham Palace, someone has amnesia but I don't https://t.co/Ki0Ya96iJv</td>\n",
              "      <td>2021-03-29 09:42:14</td>\n",
              "      <td>https://pbs.twimg.com/media/ExozlCHXEAQE_Mt.jpg</td>\n",
              "    </tr>\n",
              "    <tr>\n",
              "      <th>2</th>\n",
              "      <td>1376440248570421250</td>\n",
              "      <td>@JeanTrust You can see the hate and jealously in this photo. Megan looks like she could have killed her in this photo. https://t.co/Vqd4sDgwd8</td>\n",
              "      <td>2021-03-29 07:45:02</td>\n",
              "      <td>https://pbs.twimg.com/media/ExoYw3DWQAIHUX3.jpg</td>\n",
              "    </tr>\n",
              "    <tr>\n",
              "      <th>3</th>\n",
              "      <td>1376349957813370882</td>\n",
              "      <td>(GSN) Prince Harry and Meghan Markle’s royal exit is being turned into a movie. Lifetime has announced the next installment in its Harry &amp;amp; Megan franchise titled “Harry &amp;amp; Meghan: Escaping the Palace.” https://t.co/SqAinZCdpH https://t.co/oo9eR7sFyI</td>\n",
              "      <td>2021-03-29 01:46:15</td>\n",
              "      <td>https://pbs.twimg.com/media/ExnG_gpWUAgat_3.jpg</td>\n",
              "    </tr>\n",
              "    <tr>\n",
              "      <th>4</th>\n",
              "      <td>1376323374658490373</td>\n",
              "      <td>#Headlines: Tom Holland celebrates last day of Spider-Man training with shirtless pic, legendary author Beverly Cleary has died, Shawn Mendes and Camila Cabello's home broken into, Piers Morgan says Megan Markle was treated \"no worse\" than Princess Diana https://t.co/NptSidAYvz https://t.co/gcN7fYbV7M</td>\n",
              "      <td>2021-03-29 00:00:38</td>\n",
              "      <td>https://pbs.twimg.com/media/Exmu0MHXEAMWmZU.jpg</td>\n",
              "    </tr>\n",
              "    <tr>\n",
              "      <th>7</th>\n",
              "      <td>1376306117748391937</td>\n",
              "      <td>Megan gets way more hate than Cardi and it’s even worse bc ppl are constantly bringing up a violent assault that she was a victim of. Yet you don’t see her on Twitter everyday replying to trolls. https://t.co/4geQDku9zO</td>\n",
              "      <td>2021-03-28 22:52:03</td>\n",
              "      <td>https://pbs.twimg.com/media/ExmfHdgWUAEhwoP.jpg</td>\n",
              "    </tr>\n",
              "    <tr>\n",
              "      <th>8</th>\n",
              "      <td>1376296663107596288</td>\n",
              "      <td>Who is this bitch? Because I know it’s not Megan Fox. https://t.co/hMZGqJALIS</td>\n",
              "      <td>2021-03-28 22:14:29</td>\n",
              "      <td>https://pbs.twimg.com/media/ExmWhPoVgAIdsEM.jpg</td>\n",
              "    </tr>\n",
              "    <tr>\n",
              "      <th>10</th>\n",
              "      <td>1376154713524117504</td>\n",
              "      <td>my country talks about meghan markle like come on can we talk about Megan fox https://t.co/s0GnBHTxQW</td>\n",
              "      <td>2021-03-28 12:50:26</td>\n",
              "      <td>https://pbs.twimg.com/media/ExkVaPZU8AEXeFF.png</td>\n",
              "    </tr>\n",
              "    <tr>\n",
              "      <th>11</th>\n",
              "      <td>1376150081255129088</td>\n",
              "      <td>Harry's new job sparks more questions around Oprah interview claim - 'It doesn't add up!' https://t.co/iNw9v9AHlW \\n\\nInteresting fact - resilience 🤔\\n\\nHarry your first pupil should be Megan 😂\\n\\n#HarryandMeghan teach #resilience https://t.co/HHiQy4KVu5</td>\n",
              "      <td>2021-03-28 12:32:01</td>\n",
              "      <td>https://pbs.twimg.com/media/ExkRHwbXEAI_q8C.jpg</td>\n",
              "    </tr>\n",
              "    <tr>\n",
              "      <th>13</th>\n",
              "      <td>1376129045734305801</td>\n",
              "      <td>EXCELLENT 5 PAGES ON PIERS MORGAN IN TODAYS MAIL ON SUNDAY AND WHY HE THINKS MEGAN MARKLE IS A LYING BITCH! https://t.co/JbkLqyZqvi</td>\n",
              "      <td>2021-03-28 11:08:26</td>\n",
              "      <td>https://pbs.twimg.com/media/Exj-EoEXEAEQveU.jpg</td>\n",
              "    </tr>\n",
              "    <tr>\n",
              "      <th>15</th>\n",
              "      <td>1375968423319105537</td>\n",
              "      <td>Megan: your honor I'm a freak bitch, handcuffs, leashes\\nMe: https://t.co/yiCWKONrZp</td>\n",
              "      <td>2021-03-28 00:30:11</td>\n",
              "      <td>https://pbs.twimg.com/media/Exhr_CjXIAYy61q.jpg</td>\n",
              "    </tr>\n",
              "  </tbody>\n",
              "</table>\n",
              "</div>"
            ],
            "text/plain": [
              "               tweet_id  ...                                    tweet_img_URL\n",
              "0   1376469740949008391  ...  https://pbs.twimg.com/media/ExozlCHXEAQE_Mt.jpg\n",
              "2   1376440248570421250  ...  https://pbs.twimg.com/media/ExoYw3DWQAIHUX3.jpg\n",
              "3   1376349957813370882  ...  https://pbs.twimg.com/media/ExnG_gpWUAgat_3.jpg\n",
              "4   1376323374658490373  ...  https://pbs.twimg.com/media/Exmu0MHXEAMWmZU.jpg\n",
              "7   1376306117748391937  ...  https://pbs.twimg.com/media/ExmfHdgWUAEhwoP.jpg\n",
              "8   1376296663107596288  ...  https://pbs.twimg.com/media/ExmWhPoVgAIdsEM.jpg\n",
              "10  1376154713524117504  ...  https://pbs.twimg.com/media/ExkVaPZU8AEXeFF.png\n",
              "11  1376150081255129088  ...  https://pbs.twimg.com/media/ExkRHwbXEAI_q8C.jpg\n",
              "13  1376129045734305801  ...  https://pbs.twimg.com/media/Exj-EoEXEAEQveU.jpg\n",
              "15  1375968423319105537  ...  https://pbs.twimg.com/media/Exhr_CjXIAYy61q.jpg\n",
              "\n",
              "[10 rows x 4 columns]"
            ]
          },
          "metadata": {
            "tags": []
          },
          "execution_count": 147
        }
      ]
    },
    {
      "cell_type": "code",
      "metadata": {
        "id": "BnoayUq4pbma"
      },
      "source": [
        "#saves the dataframe to .xlsx file without a column for row indexing\n",
        "tweet_df.to_excel('dataset-1.xlsx', index=False)  "
      ],
      "execution_count": 146,
      "outputs": []
    }
  ]
}