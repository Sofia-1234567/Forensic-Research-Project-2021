{
  "nbformat": 4,
  "nbformat_minor": 0,
  "metadata": {
    "colab": {
      "name": "Tweets Collection for FRP.ipynb",
      "provenance": [],
      "collapsed_sections": [],
      "include_colab_link": true
    },
    "kernelspec": {
      "name": "python3",
      "display_name": "Python 3"
    }
  },
  "cells": [
    {
      "cell_type": "markdown",
      "metadata": {
        "id": "view-in-github",
        "colab_type": "text"
      },
      "source": [
        "<a href=\"https://colab.research.google.com/github/Sofia-1234567/Forensic-Research-Project-2021/blob/main/Tweets_Collection_for_FRP.ipynb\" target=\"_parent\"><img src=\"https://colab.research.google.com/assets/colab-badge.svg\" alt=\"Open In Colab\"/></a>"
      ]
    },
    {
      "cell_type": "code",
      "metadata": {
        "id": "6HqXRWetX5w-",
        "colab": {
          "base_uri": "https://localhost:8080/"
        },
        "outputId": "7e57327d-6ccd-425b-9239-e3539c9ca295"
      },
      "source": [
        "from google.colab import drive\n",
        "drive.mount('/content/drive')"
      ],
      "execution_count": 1,
      "outputs": [
        {
          "output_type": "stream",
          "text": [
            "Mounted at /content/drive\n"
          ],
          "name": "stdout"
        }
      ]
    },
    {
      "cell_type": "code",
      "metadata": {
        "id": "Ql-M_aPkX8f-",
        "colab": {
          "base_uri": "https://localhost:8080/"
        },
        "outputId": "5f5a2167-67c9-47c5-9366-cbb192429ac7"
      },
      "source": [
        "#Twitter properties file contains the Twitter accesstoken, accesstokensecret,apikey and apisecretkey. \n",
        "!ls '/content/drive/My Drive/Colab Notebooks/twitterproperties.txt'"
      ],
      "execution_count": 2,
      "outputs": [
        {
          "output_type": "stream",
          "text": [
            "'/content/drive/My Drive/Colab Notebooks/twitterproperties.txt'\n"
          ],
          "name": "stdout"
        }
      ]
    },
    {
      "cell_type": "code",
      "metadata": {
        "id": "JLUtLiQvjYc5",
        "colab": {
          "base_uri": "https://localhost:8080/"
        },
        "outputId": "40b6055f-ae63-406d-da17-d6709f85b7a7"
      },
      "source": [
        "#Tweepy is a Python library that allows us to access Twitter API. \n",
        "!pip install tweepy\n",
        "import tweepy as tw\n",
        "print(tw.__version__) #this will print the ver. of tweepy that has been imported\n",
        "\n",
        "#We will use the pandas library (a library for data manipulation and analysis) to build a dataframe for the collected tweets\n",
        "import pandas as pd"
      ],
      "execution_count": 3,
      "outputs": [
        {
          "output_type": "stream",
          "text": [
            "Requirement already satisfied: tweepy in /usr/local/lib/python3.7/dist-packages (3.10.0)\n",
            "Requirement already satisfied: six>=1.10.0 in /usr/local/lib/python3.7/dist-packages (from tweepy) (1.15.0)\n",
            "Requirement already satisfied: requests[socks]>=2.11.1 in /usr/local/lib/python3.7/dist-packages (from tweepy) (2.23.0)\n",
            "Requirement already satisfied: requests-oauthlib>=0.7.0 in /usr/local/lib/python3.7/dist-packages (from tweepy) (1.3.0)\n",
            "Requirement already satisfied: certifi>=2017.4.17 in /usr/local/lib/python3.7/dist-packages (from requests[socks]>=2.11.1->tweepy) (2020.12.5)\n",
            "Requirement already satisfied: urllib3!=1.25.0,!=1.25.1,<1.26,>=1.21.1 in /usr/local/lib/python3.7/dist-packages (from requests[socks]>=2.11.1->tweepy) (1.24.3)\n",
            "Requirement already satisfied: idna<3,>=2.5 in /usr/local/lib/python3.7/dist-packages (from requests[socks]>=2.11.1->tweepy) (2.10)\n",
            "Requirement already satisfied: chardet<4,>=3.0.2 in /usr/local/lib/python3.7/dist-packages (from requests[socks]>=2.11.1->tweepy) (3.0.4)\n",
            "Requirement already satisfied: PySocks!=1.5.7,>=1.5.6; extra == \"socks\" in /usr/local/lib/python3.7/dist-packages (from requests[socks]>=2.11.1->tweepy) (1.7.1)\n",
            "Requirement already satisfied: oauthlib>=3.0.0 in /usr/local/lib/python3.7/dist-packages (from requests-oauthlib>=0.7.0->tweepy) (3.1.0)\n",
            "3.10.0\n"
          ],
          "name": "stdout"
        }
      ]
    },
    {
      "cell_type": "code",
      "metadata": {
        "id": "M_mLanH4Ya78",
        "colab": {
          "base_uri": "https://localhost:8080/"
        },
        "outputId": "90764834-d1ba-4645-cd22-1a040b647bcd"
      },
      "source": [
        "#We will need the configparser package for reading the properties file from the Google Drive\n",
        "!pip install ConfigParser"
      ],
      "execution_count": 4,
      "outputs": [
        {
          "output_type": "stream",
          "text": [
            "Collecting ConfigParser\n",
            "  Downloading https://files.pythonhosted.org/packages/fd/01/ff260a18caaf4457eb028c96eeb405c4a230ca06c8ec9c1379f813caa52e/configparser-5.0.2-py3-none-any.whl\n",
            "Installing collected packages: ConfigParser\n",
            "Successfully installed ConfigParser-5.0.2\n"
          ],
          "name": "stdout"
        }
      ]
    },
    {
      "cell_type": "code",
      "metadata": {
        "id": "hYkheYmGYXjz",
        "colab": {
          "base_uri": "https://localhost:8080/"
        },
        "outputId": "3f8f01e2-0bb6-475a-a80a-6646ca3d8bb8"
      },
      "source": [
        "#In the properties file, the tokens and secret keys that will allow us to access the Twitter API are under a section called 'Twitter' \n",
        "import pandas as pd\n",
        "import configparser\n",
        "config = configparser.RawConfigParser()\n",
        "config.read('/content/drive/My Drive/Colab Notebooks/twitterproperties.txt')\n",
        "\n",
        "print(config.sections());"
      ],
      "execution_count": 5,
      "outputs": [
        {
          "output_type": "stream",
          "text": [
            "['twitter']\n"
          ],
          "name": "stdout"
        }
      ]
    },
    {
      "cell_type": "code",
      "metadata": {
        "id": "WlqqBciFc5wQ"
      },
      "source": [
        "#Assign the contents of the Twitter section of the properties file to the the token and secret key variables. \n",
        "accesstoken=config.get('twitter', 'accesstoken')\n",
        "accesstokensecret=config.get('twitter', 'accesstokensecret')\n",
        "apikey=config.get('twitter', 'apikey')\n",
        "apisecretkey=config.get('twitter', 'apisecretkey')"
      ],
      "execution_count": 6,
      "outputs": []
    },
    {
      "cell_type": "code",
      "metadata": {
        "id": "3NOYTahZfR5y"
      },
      "source": [
        "#Tweepy AuthHandler authorises the keys and tokens to be accessed \n",
        "auth = tw.OAuthHandler(apikey, apisecretkey)\n",
        "auth.set_access_token(accesstoken, accesstokensecret)\n",
        "\n",
        "#calling on auth and applying a wait limit so the server is not constantly pulling tweets (prevents crashing)\n",
        "#when the treshold of collected tweets is met, it will refresh in another 15 minutes to pull the next set of tweets\n",
        "api = tw.API(auth, wait_on_rate_limit=True)\n"
      ],
      "execution_count": 7,
      "outputs": []
    },
    {
      "cell_type": "code",
      "metadata": {
        "id": "9gOksFCSfd8b"
      },
      "source": [
        "#searches for words and phrases (inside \"\") in one tweet using the OR and AND functions\n",
        "search_words = 'covid OR covid-19 OR coronavirus OR covid19 OR corona' '-filter:retweets AND filter:twimg'\n",
        "\n",
        "#specify date we want the tweets from\n",
        "date_since = \"2020-01-01\"\n",
        "\n",
        "#tells the tweepy cursor we want to perform an API search of search_words, with language of the tweets being english, and to pull n tweets (items) at a time. \n",
        "tweets = tw.Cursor(api.search,\n",
        "                   q=search_words,\n",
        "                   lang=\"en\",\n",
        "                   since=date_since, tweet_mode='extended', include_entities=True).items(1000) "
      ],
      "execution_count": 8,
      "outputs": []
    },
    {
      "cell_type": "code",
      "metadata": {
        "id": "3Q1tsbA7iTG8"
      },
      "source": [
        "#the items that will be extracted per tweet are: unique tweet identifier (as an integer), the full text of the tweet, the date tweet was created, and the URL to the image in attached to the tweet \n",
        "tweet_details = [[tweet.id, tweet.full_text, tweet.created_at, tweet.entities['media'][0]['media_url_https']] for tweet in tweets]"
      ],
      "execution_count": 9,
      "outputs": []
    },
    {
      "cell_type": "code",
      "metadata": {
        "id": "Z5Mjz9oPgnV7"
      },
      "source": [
        "#creating a dataframe of tweet_details\n",
        "#column headings are: \n",
        "tweet_df = pd.DataFrame(data=tweet_details, columns=['tweet_id','tweet_txt', 'created_at', 'tweet_img_URL'])\n",
        "\n",
        "#sets the maximum width in characters of a column. When the column overflows, a \"...\" placeholder is embedded in the output. \n",
        "pd.set_option('max_colwidth', 400)"
      ],
      "execution_count": 10,
      "outputs": []
    },
    {
      "cell_type": "code",
      "metadata": {
        "id": "J2C7gvviQ9Oj",
        "colab": {
          "base_uri": "https://localhost:8080/",
          "height": 279
        },
        "outputId": "dcb2f354-ff55-4393-d194-a8eb11d52ccf"
      },
      "source": [
        "#filters the dataframe to only include rows containing the string \"pbs.twimg.com/media\" i.e. this will filter out entries linking to GIFs and video thumbnail\n",
        "tweet_df = tweet_df[tweet_df['tweet_img_URL'].str.contains(\"pbs.twimg.com/media\")]\n",
        "\n",
        "#this will show us the first 5 rows/entries in the dataframe\n",
        "tweet_df.head(5)"
      ],
      "execution_count": 11,
      "outputs": [
        {
          "output_type": "execute_result",
          "data": {
            "text/html": [
              "<div>\n",
              "<style scoped>\n",
              "    .dataframe tbody tr th:only-of-type {\n",
              "        vertical-align: middle;\n",
              "    }\n",
              "\n",
              "    .dataframe tbody tr th {\n",
              "        vertical-align: top;\n",
              "    }\n",
              "\n",
              "    .dataframe thead th {\n",
              "        text-align: right;\n",
              "    }\n",
              "</style>\n",
              "<table border=\"1\" class=\"dataframe\">\n",
              "  <thead>\n",
              "    <tr style=\"text-align: right;\">\n",
              "      <th></th>\n",
              "      <th>tweet_id</th>\n",
              "      <th>tweet_txt</th>\n",
              "      <th>created_at</th>\n",
              "      <th>tweet_img_URL</th>\n",
              "    </tr>\n",
              "  </thead>\n",
              "  <tbody>\n",
              "    <tr>\n",
              "      <th>0</th>\n",
              "      <td>1379267554548535301</td>\n",
              "      <td>Covid-19 Update!\\n\\nAt Blush, we are still committed to everyone's safety.\\n\\nWearing face masks and practicing social distancing while in the salon are still required. \\n\\nWe sure do hope that we can see your smiling faces soon!!😀\\n\\nThank you for your understanding &amp;amp; cooperation. 💗 https://t.co/2GSa2s2SRF</td>\n",
              "      <td>2021-04-06 02:59:45</td>\n",
              "      <td>https://pbs.twimg.com/media/EyQkh7fXEAAoI_w.jpg</td>\n",
              "    </tr>\n",
              "    <tr>\n",
              "      <th>1</th>\n",
              "      <td>1379267544536743939</td>\n",
              "      <td>Fox Business host Kennedy on Monday spoke with Mediaite’s own Colby Hall about the backlash CBS News and 60 Minutes faced for their story over the weekend hitting Florida Gov. Ron DeSantis over vaccine distribution.\\n“Ah, the lefty media.  #60Minutes\\n\\nhttps://t.co/mOGwSVyMJN https://t.co/XArBmZNP92</td>\n",
              "      <td>2021-04-06 02:59:42</td>\n",
              "      <td>https://pbs.twimg.com/media/EyQkhacWEAEpFqz.png</td>\n",
              "    </tr>\n",
              "    <tr>\n",
              "      <th>2</th>\n",
              "      <td>1379267534042578944</td>\n",
              "      <td>We can help you achieve your goals, even from home!\\n\\nLearn more: https://t.co/JYUtfNf6Qp\\n\\n#fitnessgoals #homegym #goals https://t.co/R93osjQi8V</td>\n",
              "      <td>2021-04-06 02:59:40</td>\n",
              "      <td>https://pbs.twimg.com/media/EyQkg0tWEAExi-s.jpg</td>\n",
              "    </tr>\n",
              "    <tr>\n",
              "      <th>3</th>\n",
              "      <td>1379267533874806785</td>\n",
              "      <td>#CCPVirus_Joke\\n\\nThanks Salty Cracker @SaltyCracker9 #MAGA\\n \\n#CoronaVirus #WuhanVirus #COVID19 \\n\\nqt-covid19-jokes-072 #BorderObserver https://t.co/7YGFi9Z7Uw</td>\n",
              "      <td>2021-04-06 02:59:40</td>\n",
              "      <td>https://pbs.twimg.com/media/EyQkg0-WQAIyUJS.jpg</td>\n",
              "    </tr>\n",
              "    <tr>\n",
              "      <th>4</th>\n",
              "      <td>1379267528057356288</td>\n",
              "      <td>This is not a #CCPVirus_Joke, but funny\\n\\nIs your #meth contaminated with #coronavirus? This Florida police dept. will test it for free \\nMar 4, 2020\\nhttps://t.co/l4UyCZxKdO https://t.co/4Jg5G6ymgL\\n\\n#methamphetamine #COVID19 #CCPVirus\\n\\nqt-covid19-jokes-052 #BorderObserver</td>\n",
              "      <td>2021-04-06 02:59:38</td>\n",
              "      <td>https://pbs.twimg.com/media/ESRjgacXcAIzfFn.jpg</td>\n",
              "    </tr>\n",
              "  </tbody>\n",
              "</table>\n",
              "</div>"
            ],
            "text/plain": [
              "              tweet_id  ...                                    tweet_img_URL\n",
              "0  1379267554548535301  ...  https://pbs.twimg.com/media/EyQkh7fXEAAoI_w.jpg\n",
              "1  1379267544536743939  ...  https://pbs.twimg.com/media/EyQkhacWEAEpFqz.png\n",
              "2  1379267534042578944  ...  https://pbs.twimg.com/media/EyQkg0tWEAExi-s.jpg\n",
              "3  1379267533874806785  ...  https://pbs.twimg.com/media/EyQkg0-WQAIyUJS.jpg\n",
              "4  1379267528057356288  ...  https://pbs.twimg.com/media/ESRjgacXcAIzfFn.jpg\n",
              "\n",
              "[5 rows x 4 columns]"
            ]
          },
          "metadata": {
            "tags": []
          },
          "execution_count": 11
        }
      ]
    },
    {
      "cell_type": "code",
      "metadata": {
        "colab": {
          "base_uri": "https://localhost:8080/"
        },
        "id": "HIUwNPBXVgIb",
        "outputId": "616a3db7-a5d2-41ba-c8c6-81e3bc679a9d"
      },
      "source": [
        "#this will give us the dimensions of the dataframe, i.e. how many rows and how many columns --> output is: (no. of rows, no. of columns)\n",
        "tweet_df.shape"
      ],
      "execution_count": 12,
      "outputs": [
        {
          "output_type": "execute_result",
          "data": {
            "text/plain": [
              "(896, 4)"
            ]
          },
          "metadata": {
            "tags": []
          },
          "execution_count": 12
        }
      ]
    },
    {
      "cell_type": "code",
      "metadata": {
        "id": "0zeN1Q4nHbv_",
        "colab": {
          "base_uri": "https://localhost:8080/",
          "height": 279
        },
        "outputId": "ebfdd320-ddc5-42be-f20e-ce9704f9527f"
      },
      "source": [
        "#dropping duplicate values in column \"tweet_txt\"\n",
        "\n",
        "#first, lets do some simple cleaning. Here, @ mentions are replaced with \"@user\", and https links are replaced with nothing (i.e. they are removed).\n",
        "import re\n",
        "def clean_tweets(Tweet):\n",
        "    Tweet = re.sub(\"@[\\w]*\",\"@user\",Tweet)\n",
        "    Tweet = re.sub(\"https?://[A-Za-z0-9./]*\",\"\",Tweet)\n",
        "    return Tweet\n",
        "\n",
        "tweet_df['tweet_txt']=tweet_df['tweet_txt'].apply(lambda x: clean_tweets(x))\n",
        "\n",
        "#drop duplicate rows and keep the first instance\n",
        "tweet_df.drop_duplicates(subset=\"tweet_txt\", keep='first')\n",
        "\n",
        "tweet_df.head(5)"
      ],
      "execution_count": 13,
      "outputs": [
        {
          "output_type": "execute_result",
          "data": {
            "text/html": [
              "<div>\n",
              "<style scoped>\n",
              "    .dataframe tbody tr th:only-of-type {\n",
              "        vertical-align: middle;\n",
              "    }\n",
              "\n",
              "    .dataframe tbody tr th {\n",
              "        vertical-align: top;\n",
              "    }\n",
              "\n",
              "    .dataframe thead th {\n",
              "        text-align: right;\n",
              "    }\n",
              "</style>\n",
              "<table border=\"1\" class=\"dataframe\">\n",
              "  <thead>\n",
              "    <tr style=\"text-align: right;\">\n",
              "      <th></th>\n",
              "      <th>tweet_id</th>\n",
              "      <th>tweet_txt</th>\n",
              "      <th>created_at</th>\n",
              "      <th>tweet_img_URL</th>\n",
              "    </tr>\n",
              "  </thead>\n",
              "  <tbody>\n",
              "    <tr>\n",
              "      <th>0</th>\n",
              "      <td>1379267554548535301</td>\n",
              "      <td>Covid-19 Update!\\n\\nAt Blush, we are still committed to everyone's safety.\\n\\nWearing face masks and practicing social distancing while in the salon are still required. \\n\\nWe sure do hope that we can see your smiling faces soon!!😀\\n\\nThank you for your understanding &amp;amp; cooperation. 💗</td>\n",
              "      <td>2021-04-06 02:59:45</td>\n",
              "      <td>https://pbs.twimg.com/media/EyQkh7fXEAAoI_w.jpg</td>\n",
              "    </tr>\n",
              "    <tr>\n",
              "      <th>1</th>\n",
              "      <td>1379267544536743939</td>\n",
              "      <td>Fox Business host Kennedy on Monday spoke with Mediaite’s own Colby Hall about the backlash CBS News and 60 Minutes faced for their story over the weekend hitting Florida Gov. Ron DeSantis over vaccine distribution.\\n“Ah, the lefty media.  #60Minutes\\n\\n</td>\n",
              "      <td>2021-04-06 02:59:42</td>\n",
              "      <td>https://pbs.twimg.com/media/EyQkhacWEAEpFqz.png</td>\n",
              "    </tr>\n",
              "    <tr>\n",
              "      <th>2</th>\n",
              "      <td>1379267534042578944</td>\n",
              "      <td>We can help you achieve your goals, even from home!\\n\\nLearn more: \\n\\n#fitnessgoals #homegym #goals</td>\n",
              "      <td>2021-04-06 02:59:40</td>\n",
              "      <td>https://pbs.twimg.com/media/EyQkg0tWEAExi-s.jpg</td>\n",
              "    </tr>\n",
              "    <tr>\n",
              "      <th>3</th>\n",
              "      <td>1379267533874806785</td>\n",
              "      <td>#CCPVirus_Joke\\n\\nThanks Salty Cracker @user #MAGA\\n \\n#CoronaVirus #WuhanVirus #COVID19 \\n\\nqt-covid19-jokes-072 #BorderObserver</td>\n",
              "      <td>2021-04-06 02:59:40</td>\n",
              "      <td>https://pbs.twimg.com/media/EyQkg0-WQAIyUJS.jpg</td>\n",
              "    </tr>\n",
              "    <tr>\n",
              "      <th>4</th>\n",
              "      <td>1379267528057356288</td>\n",
              "      <td>This is not a #CCPVirus_Joke, but funny\\n\\nIs your #meth contaminated with #coronavirus? This Florida police dept. will test it for free \\nMar 4, 2020\\n \\n\\n#methamphetamine #COVID19 #CCPVirus\\n\\nqt-covid19-jokes-052 #BorderObserver</td>\n",
              "      <td>2021-04-06 02:59:38</td>\n",
              "      <td>https://pbs.twimg.com/media/ESRjgacXcAIzfFn.jpg</td>\n",
              "    </tr>\n",
              "  </tbody>\n",
              "</table>\n",
              "</div>"
            ],
            "text/plain": [
              "              tweet_id  ...                                    tweet_img_URL\n",
              "0  1379267554548535301  ...  https://pbs.twimg.com/media/EyQkh7fXEAAoI_w.jpg\n",
              "1  1379267544536743939  ...  https://pbs.twimg.com/media/EyQkhacWEAEpFqz.png\n",
              "2  1379267534042578944  ...  https://pbs.twimg.com/media/EyQkg0tWEAExi-s.jpg\n",
              "3  1379267533874806785  ...  https://pbs.twimg.com/media/EyQkg0-WQAIyUJS.jpg\n",
              "4  1379267528057356288  ...  https://pbs.twimg.com/media/ESRjgacXcAIzfFn.jpg\n",
              "\n",
              "[5 rows x 4 columns]"
            ]
          },
          "metadata": {
            "tags": []
          },
          "execution_count": 13
        }
      ]
    },
    {
      "cell_type": "code",
      "metadata": {
        "id": "-5Z-34ue1IhL",
        "colab": {
          "base_uri": "https://localhost:8080/"
        },
        "outputId": "9790fbea-30d9-4e36-fa6f-7116219bb68d"
      },
      "source": [
        "#let's see if any duplicates were removed, i.e. did the no. of rows decrease?\n",
        "tweet_df.shape"
      ],
      "execution_count": 14,
      "outputs": [
        {
          "output_type": "execute_result",
          "data": {
            "text/plain": [
              "(896, 4)"
            ]
          },
          "metadata": {
            "tags": []
          },
          "execution_count": 14
        }
      ]
    },
    {
      "cell_type": "code",
      "metadata": {
        "id": "BnoayUq4pbma"
      },
      "source": [
        "#saves the dataframe to .xlsx file without a column for row indexing\n",
        "#careful not to overwrite an existing file!\n",
        "tweet_df.to_excel('covid-4.xlsx', index=False)  "
      ],
      "execution_count": 15,
      "outputs": []
    }
  ]
}