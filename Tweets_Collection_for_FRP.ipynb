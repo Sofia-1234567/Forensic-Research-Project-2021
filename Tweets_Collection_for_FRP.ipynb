{
  "nbformat": 4,
  "nbformat_minor": 0,
  "metadata": {
    "colab": {
      "name": "Tweets Collection for FRP.ipynb",
      "provenance": [],
      "collapsed_sections": [],
      "include_colab_link": true
    },
    "kernelspec": {
      "name": "python3",
      "display_name": "Python 3"
    }
  },
  "cells": [
    {
      "cell_type": "markdown",
      "metadata": {
        "id": "view-in-github",
        "colab_type": "text"
      },
      "source": [
        "<a href=\"https://colab.research.google.com/github/Sofia-1234567/Forensic-Research-Project-2021/blob/main/Tweets_Collection_for_FRP.ipynb\" target=\"_parent\"><img src=\"https://colab.research.google.com/assets/colab-badge.svg\" alt=\"Open In Colab\"/></a>"
      ]
    },
    {
      "cell_type": "code",
      "metadata": {
        "id": "6HqXRWetX5w-",
        "colab": {
          "base_uri": "https://localhost:8080/"
        },
        "outputId": "a2a42b9d-0709-433e-80a5-1902a8e7687d"
      },
      "source": [
        "from google.colab import drive\n",
        "drive.mount('/content/drive')"
      ],
      "execution_count": null,
      "outputs": [
        {
          "output_type": "stream",
          "text": [
            "Drive already mounted at /content/drive; to attempt to forcibly remount, call drive.mount(\"/content/drive\", force_remount=True).\n"
          ],
          "name": "stdout"
        }
      ]
    },
    {
      "cell_type": "code",
      "metadata": {
        "id": "Ql-M_aPkX8f-",
        "colab": {
          "base_uri": "https://localhost:8080/"
        },
        "outputId": "12f70c05-d454-42b7-edb0-90018c79bb2b"
      },
      "source": [
        "#Twitter properties file contains the Twitter accesstoken, accesstokensecret,apikey and apisecretkey. \n",
        "!ls '/content/drive/My Drive/Colab Notebooks/twitterproperties.txt'"
      ],
      "execution_count": null,
      "outputs": [
        {
          "output_type": "stream",
          "text": [
            "'/content/drive/My Drive/Colab Notebooks/twitterproperties.txt'\n"
          ],
          "name": "stdout"
        }
      ]
    },
    {
      "cell_type": "code",
      "metadata": {
        "id": "01Txywxmc0ln",
        "colab": {
          "base_uri": "https://localhost:8080/"
        },
        "outputId": "afb979ab-9c13-420e-ef67-db5a9d3a44da"
      },
      "source": [
        "!pip install tweepy"
      ],
      "execution_count": null,
      "outputs": [
        {
          "output_type": "stream",
          "text": [
            "Requirement already satisfied: tweepy in /usr/local/lib/python3.7/dist-packages (3.10.0)\n",
            "Requirement already satisfied: six>=1.10.0 in /usr/local/lib/python3.7/dist-packages (from tweepy) (1.15.0)\n",
            "Requirement already satisfied: requests[socks]>=2.11.1 in /usr/local/lib/python3.7/dist-packages (from tweepy) (2.23.0)\n",
            "Requirement already satisfied: requests-oauthlib>=0.7.0 in /usr/local/lib/python3.7/dist-packages (from tweepy) (1.3.0)\n",
            "Requirement already satisfied: idna<3,>=2.5 in /usr/local/lib/python3.7/dist-packages (from requests[socks]>=2.11.1->tweepy) (2.10)\n",
            "Requirement already satisfied: certifi>=2017.4.17 in /usr/local/lib/python3.7/dist-packages (from requests[socks]>=2.11.1->tweepy) (2020.12.5)\n",
            "Requirement already satisfied: chardet<4,>=3.0.2 in /usr/local/lib/python3.7/dist-packages (from requests[socks]>=2.11.1->tweepy) (3.0.4)\n",
            "Requirement already satisfied: urllib3!=1.25.0,!=1.25.1,<1.26,>=1.21.1 in /usr/local/lib/python3.7/dist-packages (from requests[socks]>=2.11.1->tweepy) (1.24.3)\n",
            "Requirement already satisfied: PySocks!=1.5.7,>=1.5.6; extra == \"socks\" in /usr/local/lib/python3.7/dist-packages (from requests[socks]>=2.11.1->tweepy) (1.7.1)\n",
            "Requirement already satisfied: oauthlib>=3.0.0 in /usr/local/lib/python3.7/dist-packages (from requests-oauthlib>=0.7.0->tweepy) (3.1.0)\n"
          ],
          "name": "stdout"
        }
      ]
    },
    {
      "cell_type": "code",
      "metadata": {
        "id": "JLUtLiQvjYc5"
      },
      "source": [
        "#Tweepy is a Python library that allows us to access Twitter API. \n",
        "import tweepy\n",
        "\n",
        "#Using pandas library, a library for data manipulation and analysis to build a dataframe for the collected tweets\n",
        "import pandas as pd"
      ],
      "execution_count": null,
      "outputs": []
    },
    {
      "cell_type": "code",
      "metadata": {
        "id": "M_mLanH4Ya78",
        "colab": {
          "base_uri": "https://localhost:8080/"
        },
        "outputId": "d1f5f4ce-bcdd-4bfb-a219-4222eccccbc1"
      },
      "source": [
        "#Reads the properties file from the Google Drive\n",
        "\n",
        "!pip install ConfigParser"
      ],
      "execution_count": null,
      "outputs": [
        {
          "output_type": "stream",
          "text": [
            "Requirement already satisfied: ConfigParser in /usr/local/lib/python3.7/dist-packages (5.0.2)\n"
          ],
          "name": "stdout"
        }
      ]
    },
    {
      "cell_type": "code",
      "metadata": {
        "id": "hYkheYmGYXjz",
        "colab": {
          "base_uri": "https://localhost:8080/"
        },
        "outputId": "c11cf573-54ef-4e87-dbe5-a31b049781cd"
      },
      "source": [
        "#In the properties file, the tokens and secret keys are under a section called 'Twitter' which configparser reads. \n",
        "import pandas as pd\n",
        "import configparser\n",
        "config = configparser.RawConfigParser()\n",
        "config.read('/content/drive/My Drive/Colab Notebooks/twitterproperties.txt')\n",
        "\n",
        "print(config.sections());"
      ],
      "execution_count": null,
      "outputs": [
        {
          "output_type": "stream",
          "text": [
            "['twitter']\n"
          ],
          "name": "stdout"
        }
      ]
    },
    {
      "cell_type": "code",
      "metadata": {
        "id": "nylIwVYPb6LY"
      },
      "source": [
        "import tweepy as tw"
      ],
      "execution_count": null,
      "outputs": []
    },
    {
      "cell_type": "code",
      "metadata": {
        "id": "WlqqBciFc5wQ"
      },
      "source": [
        "#Assigns the contents of the token and secret keys from the Twitter section of the properties file to the variables. \n",
        "accesstoken=config.get('twitter', 'accesstoken')\n",
        "accesstokensecret=config.get('twitter', 'accesstokensecret')\n",
        "apikey=config.get('twitter', 'apikey')\n",
        "apisecretkey=config.get('twitter', 'apisecretkey')"
      ],
      "execution_count": null,
      "outputs": []
    },
    {
      "cell_type": "code",
      "metadata": {
        "id": "3NOYTahZfR5y"
      },
      "source": [
        "#Tweepy AuthHandler authorises the keys and tokens to be accessed \n",
        "auth = tw.OAuthHandler(apikey, apisecretkey)\n",
        "auth.set_access_token(accesstoken, accesstokensecret)\n",
        "\n",
        "#calling on auth and applying a wait limit so the server is not constantly pulling tweets (prevents crashing)\n",
        "#when the treshold of collected tweets is met, it will refresh in another 15 minutes to pull the next set of tweets\n",
        "api = tw.API(auth, wait_on_rate_limit=True)"
      ],
      "execution_count": null,
      "outputs": []
    },
    {
      "cell_type": "code",
      "metadata": {
        "id": "9gOksFCSfd8b"
      },
      "source": [
        "#searches for words, and multiple words in one tweet using the OR function\n",
        "#apply search filters\n",
        "\n",
        "search_words = 'dog' \"-filter:retweets AND filter:images\"\n",
        "\n",
        "#specify date we want the tweets from\n",
        "date_since = \"2020-01-01\"\n"
      ],
      "execution_count": null,
      "outputs": []
    },
    {
      "cell_type": "code",
      "metadata": {
        "id": "pc_wEbx2fhAP"
      },
      "source": [
        "#tells the tweepy cursor that we want to perform an API search of search words, with language of the tweets being english, and to pull 300 tweets at a time. \n",
        "tweets = tw.Cursor(api.search,\n",
        "                   q=search_words,\n",
        "                   lang=\"en\",\n",
        "                   since=date_since, tweet_mode='extended').items(300) "
      ],
      "execution_count": null,
      "outputs": []
    },
    {
      "cell_type": "code",
      "metadata": {
        "id": "k8pvqgX3gPbl"
      },
      "source": [
        "#the items that will be extracted per tweet are: unique tweet identifier (as an integer), the full text of the tweet, the date tweet was created, and the URL to the image in attached to the tweet \n",
        "tweet_details = [[tweet.id, tweet.full_text, tweet.created_at, tweet.entities['media'][0]['media_url_https']] for tweet in tweets]"
      ],
      "execution_count": null,
      "outputs": []
    },
    {
      "cell_type": "code",
      "metadata": {
        "id": "YlGAqP27ga9l"
      },
      "source": [
        "#creating a dataframe of tweet_details\n",
        "#column headings are: \n",
        "tweet_df = pd.DataFrame(data=tweet_details, columns=['tweet_id','tweet_txt', 'created_at', 'tweet_img'])"
      ],
      "execution_count": null,
      "outputs": []
    },
    {
      "cell_type": "code",
      "metadata": {
        "id": "Z5Mjz9oPgnV7",
        "colab": {
          "base_uri": "https://localhost:8080/",
          "height": 536
        },
        "outputId": "c14d6684-dbdb-4fd6-dab8-afb0e4cb1c7d"
      },
      "source": [
        "#sets the maximum width in characters of a column. When the column overflows, a \"...\" placeholder is embedded in the output. \n",
        "pd.set_option('max_colwidth', 800)\n",
        "\n",
        "#Displays the first 50 tweets (starting at 0)\n",
        "tweet_df.head(10)"
      ],
      "execution_count": null,
      "outputs": [
        {
          "output_type": "execute_result",
          "data": {
            "text/html": [
              "<div>\n",
              "<style scoped>\n",
              "    .dataframe tbody tr th:only-of-type {\n",
              "        vertical-align: middle;\n",
              "    }\n",
              "\n",
              "    .dataframe tbody tr th {\n",
              "        vertical-align: top;\n",
              "    }\n",
              "\n",
              "    .dataframe thead th {\n",
              "        text-align: right;\n",
              "    }\n",
              "</style>\n",
              "<table border=\"1\" class=\"dataframe\">\n",
              "  <thead>\n",
              "    <tr style=\"text-align: right;\">\n",
              "      <th></th>\n",
              "      <th>tweet_id</th>\n",
              "      <th>tweet_txt</th>\n",
              "      <th>created_at</th>\n",
              "      <th>tweet_img</th>\n",
              "    </tr>\n",
              "  </thead>\n",
              "  <tbody>\n",
              "    <tr>\n",
              "      <th>0</th>\n",
              "      <td>1373618101430853632</td>\n",
              "      <td>Wait, I was today old when I learned that Osaki Hachimangu has a connection to people born on the year of the dog and boar. Guess who's born on the year of the dog? 😁😁😁 https://t.co/VHJbS096V9</td>\n",
              "      <td>2021-03-21 12:50:50</td>\n",
              "      <td>https://pbs.twimg.com/media/ExASYSvVkAIg3Za.jpg</td>\n",
              "    </tr>\n",
              "    <tr>\n",
              "      <th>1</th>\n",
              "      <td>1373618015057670149</td>\n",
              "      <td>*sad dog noises* https://t.co/iiFK2OORrx</td>\n",
              "      <td>2021-03-21 12:50:30</td>\n",
              "      <td>https://pbs.twimg.com/media/ExASElZXEAYr_T3.jpg</td>\n",
              "    </tr>\n",
              "    <tr>\n",
              "      <th>2</th>\n",
              "      <td>1373617965900443648</td>\n",
              "      <td>Random things my dog is afraid of: https://t.co/hOOyQZXDCS</td>\n",
              "      <td>2021-03-21 12:50:18</td>\n",
              "      <td>https://pbs.twimg.com/media/ExASQl1WQAAVYtV.jpg</td>\n",
              "    </tr>\n",
              "    <tr>\n",
              "      <th>3</th>\n",
              "      <td>1373617920044044289</td>\n",
              "      <td>Feeling Proud....Yesterday we completed our 100km March dog walking challenge in aid of @DementiaUK . Mo and I will keep walking and adding to the kilometres until the end of March and hopefully add to the £950 that we have raised so far. 🏆 https://t.co/hG624KECeT</td>\n",
              "      <td>2021-03-21 12:50:07</td>\n",
              "      <td>https://pbs.twimg.com/media/ExASNqBXMAE7lTb.jpg</td>\n",
              "    </tr>\n",
              "    <tr>\n",
              "      <th>4</th>\n",
              "      <td>1373617889190772736</td>\n",
              "      <td>It’s my other Big Dog Birthday. 🎂🎊🎁#NoSocialsMarlin https://t.co/CXw692x6yL</td>\n",
              "      <td>2021-03-21 12:50:00</td>\n",
              "      <td>https://pbs.twimg.com/media/ExASMHzWQAEwP_v.jpg</td>\n",
              "    </tr>\n",
              "    <tr>\n",
              "      <th>5</th>\n",
              "      <td>1373617809536737280</td>\n",
              "      <td>4. I have two doggos, both Staffordshire bull terriers. They are Tyson (My dog), he's almost 10 (first pic) and Bobby (Family dog) almost 11 (second pic). They follow me around everywhere like I'm a pack leader and I love them very much 😊 They're right here with me now (3rd pic) https://t.co/4wGsiqDUxw</td>\n",
              "      <td>2021-03-21 12:49:41</td>\n",
              "      <td>https://pbs.twimg.com/media/ExASFh5WUAUXQs6.jpg</td>\n",
              "    </tr>\n",
              "    <tr>\n",
              "      <th>6</th>\n",
              "      <td>1373617786451279876</td>\n",
              "      <td>Walking the dog this morning used my usual shortcut and almost pooped my pants, because thought this guy was real https://t.co/ykMrlOF4Kd</td>\n",
              "      <td>2021-03-21 12:49:35</td>\n",
              "      <td>https://pbs.twimg.com/media/ExASGHhWUAAnHwd.jpg</td>\n",
              "    </tr>\n",
              "    <tr>\n",
              "      <th>7</th>\n",
              "      <td>1373617726787350528</td>\n",
              "      <td>Hidden away in Battersea Park is this memorial to the Brown Dog. And look, someone has left it a stick!\\n\\nThe original brown dog caused riots after allegations of illegal and inhumane experimentation at University College London. https://t.co/5ACHvzpyAa</td>\n",
              "      <td>2021-03-21 12:49:21</td>\n",
              "      <td>https://pbs.twimg.com/media/ExASB45XMAMJS3J.jpg</td>\n",
              "    </tr>\n",
              "    <tr>\n",
              "      <th>8</th>\n",
              "      <td>1373617704695828483</td>\n",
              "      <td>Udupi: Leopard enters home while chasing pet dog, trapped inside\\n\\n► Watch Video\\n\\n@aranya_kfd \\n\\nClick 👉 https://t.co/rU5iu0T1xJ https://t.co/boIU47JhQa</td>\n",
              "      <td>2021-03-21 12:49:16</td>\n",
              "      <td>https://pbs.twimg.com/media/ExAR962VoAAGUY6.jpg</td>\n",
              "    </tr>\n",
              "    <tr>\n",
              "      <th>9</th>\n",
              "      <td>1373617699331444740</td>\n",
              "      <td>Gratuitous dog pic while waiting for breakfast to cook... https://t.co/HELYpVgpyI</td>\n",
              "      <td>2021-03-21 12:49:14</td>\n",
              "      <td>https://pbs.twimg.com/media/ExAR-XHXEAEHtJH.jpg</td>\n",
              "    </tr>\n",
              "  </tbody>\n",
              "</table>\n",
              "</div>"
            ],
            "text/plain": [
              "              tweet_id  ...                                        tweet_img\n",
              "0  1373618101430853632  ...  https://pbs.twimg.com/media/ExASYSvVkAIg3Za.jpg\n",
              "1  1373618015057670149  ...  https://pbs.twimg.com/media/ExASElZXEAYr_T3.jpg\n",
              "2  1373617965900443648  ...  https://pbs.twimg.com/media/ExASQl1WQAAVYtV.jpg\n",
              "3  1373617920044044289  ...  https://pbs.twimg.com/media/ExASNqBXMAE7lTb.jpg\n",
              "4  1373617889190772736  ...  https://pbs.twimg.com/media/ExASMHzWQAEwP_v.jpg\n",
              "5  1373617809536737280  ...  https://pbs.twimg.com/media/ExASFh5WUAUXQs6.jpg\n",
              "6  1373617786451279876  ...  https://pbs.twimg.com/media/ExASGHhWUAAnHwd.jpg\n",
              "7  1373617726787350528  ...  https://pbs.twimg.com/media/ExASB45XMAMJS3J.jpg\n",
              "8  1373617704695828483  ...  https://pbs.twimg.com/media/ExAR962VoAAGUY6.jpg\n",
              "9  1373617699331444740  ...  https://pbs.twimg.com/media/ExAR-XHXEAEHtJH.jpg\n",
              "\n",
              "[10 rows x 4 columns]"
            ]
          },
          "metadata": {
            "tags": []
          },
          "execution_count": 121
        }
      ]
    },
    {
      "cell_type": "code",
      "metadata": {
        "id": "BnoayUq4pbma"
      },
      "source": [
        "#saves the dataframe to .csv file\n",
        "#tweet_df.to_csv('data.csv')"
      ],
      "execution_count": null,
      "outputs": []
    }
  ]
}